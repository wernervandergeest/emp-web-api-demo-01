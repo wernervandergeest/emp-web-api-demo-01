{
 "cells": [
  {
   "cell_type": "code",
   "execution_count": null,
   "id": "47528258",
   "metadata": {},
   "outputs": [],
   "source": [
    "using System; \n",
    "using System.Net; \n",
    "using System.Net.Http; \n"
   ]
  }
 ],
 "metadata": {
  "kernelspec": {
   "display_name": ".NET (C#)",
   "language": "C#",
   "name": ".net-csharp"
  },
  "language_info": {
   "file_extension": ".cs",
   "mimetype": "text/x-csharp",
   "name": "C#",
   "pygments_lexer": "csharp",
   "version": "9.0"
  }
 },
 "nbformat": 4,
 "nbformat_minor": 5
}
