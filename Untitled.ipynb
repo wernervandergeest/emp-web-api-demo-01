{
 "cells": [
  {
   "cell_type": "code",
   "execution_count": 1,
   "id": "8fe5388d",
   "metadata": {},
   "outputs": [
    {
     "name": "stdout",
     "output_type": "stream",
     "text": [
      "<http.client.HTTPSConnection object at 0x000002256877CA60>\n",
      "Status: 200 and reason: OK\n",
      "Content: Waters Empower Web API is running...\n"
     ]
    }
   ],
   "source": [
    "import http.client\n",
    "\n",
    "connection = http.client.HTTPSConnection('webapi-web-app.azurewebsites.net')\n",
    "\n",
    "print(connection)\n",
    "\n",
    "headers = {'accept': '*/*'}\n",
    "\n",
    "connection.request(\"GET\", \"/sessioninfo/isservicerunning\")\n",
    "response = connection.getresponse()\n",
    "\n",
    "print(\"Status: {} and reason: {}\".format(response.status, response.reason))\n",
    "print(\"Content: {}\".format(response.read().decode()))\n",
    "\n",
    "\n",
    "connection.close()\n"
   ]
  },
  {
   "cell_type": "code",
   "execution_count": null,
   "id": "fcf90461",
   "metadata": {},
   "outputs": [],
   "source": []
  }
 ],
 "metadata": {
  "kernelspec": {
   "display_name": "Python 3 (ipykernel)",
   "language": "python",
   "name": "python3"
  },
  "language_info": {
   "codemirror_mode": {
    "name": "ipython",
    "version": 3
   },
   "file_extension": ".py",
   "mimetype": "text/x-python",
   "name": "python",
   "nbconvert_exporter": "python",
   "pygments_lexer": "ipython3",
   "version": "3.10.2"
  }
 },
 "nbformat": 4,
 "nbformat_minor": 5
}
