{
 "cells": [
  {
   "cell_type": "code",
   "execution_count": null,
   "id": "2d3dfeb8",
   "metadata": {},
   "outputs": [],
   "source": [
    "import http.client\n",
    "import requests\n",
    "import json\n",
    "import pandas as pd\n",
    "\n",
    "connection = http.client.HTTPSConnection('webapi-web-app.azurewebsites.net')\n",
    "\n",
    "print(connection)\n",
    "\n",
    "headers = {'accept': '*/*'}\n",
    "\n",
    "connection.request(\"GET\", \"/sessioninfo/isservicerunning\")\n",
    "response = connection.getresponse()\n",
    "\n",
    "print(\"Status: {} and reason: {}\".format(response.status, response.reason))\n",
    "print(\"Content: {}\".format(response.read().decode()))"
   ]
  },
  {
   "cell_type": "code",
   "execution_count": null,
   "id": "96caae58",
   "metadata": {},
   "outputs": [],
   "source": [
    "class Sessioninfo(object):\n",
    "...     def __init__(self, j):\n",
    "...         self.__dict__ = json.loads(j)\n",
    "\n",
    "\n",
    "url = 'https://webapi-web-app.azurewebsites.net/sessioninfo/login'\n",
    "data = {'isLoginX': 0,'service': 'WAT19','userName': 'system','password': 'manager','project': '','accessGroup': ''}\n",
    "headers = {'Content-type': 'application/json', 'Accept': 'text/plain'}\n",
    "\n",
    "response = requests.post(url,data=json.dumps(data), headers=headers)\n",
    "\n",
    "sessioninfo = Sessioninfo(response.text)\n",
    "\n",
    "print(\"SessionInfo ID: {}\".format(sessioninfo.id))\n",
    "print('------------------------------------------------------------------------------------------------------')\n",
    "print(\"Date Created: {}\".format(sessioninfo.createDateTime))\n",
    "print(\"Expiry Date: {}\".format(sessioninfo.expireDateTime))\n",
    "print(\"User: {}\".format(sessioninfo.user))\n",
    "print(\"User Type: {}\".format(sessioninfo.userType))\n",
    "print(\"Allowed User Types: {}\".format(*sessioninfo.allowedUserTypes))\n",
    "print(\"Project: {}\".format(sessioninfo.project))\n",
    "print(\"Has Access: {}\".format(sessioninfo.hasAccess))\n",
    "print('------------------------------------------------------------------------------------------------------')\n",
    "print(\"JW Token: {}\".format(sessioninfo.token))\n",
    "\n"
   ]
  },
  {
   "cell_type": "code",
   "execution_count": null,
   "id": "5fbf53bc",
   "metadata": {},
   "outputs": [],
   "source": [
    "# gets the list of projects \n",
    "\n",
    "url = 'https://webapi-web-app.azurewebsites.net/sessioninfo/getprojects'\n",
    "\n",
    "# adding the JWT to the header\n",
    "headers = {'Accept': 'text/plain', 'Authorization': 'bearer '+sessioninfo.token}\n",
    "\n",
    "response =requests.get(url, headers=headers)\n",
    "dataList = json.loads(response.text)\n",
    "\n",
    "# print (*response)\n",
    "\n",
    "print('There are ',len(dataList), ' results returned')\n",
    "print('------------------------------------------------------------------------------------------------')\n",
    "for index in range(len(dataList)):\n",
    "        print(dataList[index])\n",
    "        print('------------------------------------------------------------------------------------------------')\n",
    "    \n",
    "\n",
    "\n"
   ]
  },
  {
   "cell_type": "code",
   "execution_count": null,
   "id": "fdb66484",
   "metadata": {},
   "outputs": [],
   "source": [
    "# get the users\n",
    "url = 'https://webapi-web-app.azurewebsites.net/users/getusers'\n",
    "\n",
    "response =requests.get(url, headers=headers)\n",
    "\n",
    "data = json.loads(response.text)\n",
    "dataList = data['results']\n",
    "\n",
    "print('There are ',len(dataList), ' results returned')\n",
    "print('------------------------------------------------------------------------------------------------')\n",
    "\n",
    "\n",
    "for index in range(len(dataList)):\n",
    "        print(dataList[index])\n",
    "        print('------------------------------------------------------------------------------------------------')\n",
    "    \n"
   ]
  },
  {
   "cell_type": "code",
   "execution_count": null,
   "id": "386d6063",
   "metadata": {},
   "outputs": [],
   "source": [
    "\n",
    "connection.close()\n"
   ]
  }
 ],
 "metadata": {
  "kernelspec": {
   "display_name": "Python 3 (ipykernel)",
   "language": "python",
   "name": "python3"
  },
  "language_info": {
   "codemirror_mode": {
    "name": "ipython",
    "version": 3
   },
   "file_extension": ".py",
   "mimetype": "text/x-python",
   "name": "python",
   "nbconvert_exporter": "python",
   "pygments_lexer": "ipython3",
   "version": "3.10.2"
  }
 },
 "nbformat": 4,
 "nbformat_minor": 5
}
